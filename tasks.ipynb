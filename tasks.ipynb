{
 "cells": [
  {
   "cell_type": "markdown",
   "metadata": {},
   "source": [
    "# Tasks"
   ]
  },
  {
   "cell_type": "markdown",
   "metadata": {},
   "source": [
    "## Task 1: Source the Data Set"
   ]
  },
  {
   "cell_type": "markdown",
   "metadata": {},
   "source": [
    "Import the `sklearn.datasets` module."
   ]
  },
  {
   "cell_type": "code",
   "execution_count": 28,
   "metadata": {},
   "outputs": [],
   "source": [
    "# Import scikit-learn module\n",
    "import sklearn as skl # sklearn is used for machine learning tasks like load data sets, split the data, testing, etc."
   ]
  },
  {
   "cell_type": "markdown",
   "metadata": {},
   "source": [
    "### Load Iris data set\n",
    "The `sklearn.datasets.load_iris` function ([see official documentation](https://scikit-learn.org/stable/modules/generated/sklearn.datasets.load_iris.html)) Load and return the iris dataset."
   ]
  },
  {
   "cell_type": "code",
   "execution_count": 29,
   "metadata": {},
   "outputs": [],
   "source": [
    "# Loading the Iris dataset\n",
    "from sklearn.datasets import load_iris \n",
    "\n",
    "# Creating data variable and putting the iris dataset into it\n",
    "# https://scikit-learn.org/stable/modules/generated/sklearn.datasets.load_iris.html\n",
    "data = skl.datasets.load_iris() # Load the iris dataset into the data variable"
   ]
  },
  {
   "cell_type": "markdown",
   "metadata": {},
   "source": [
    "### Explain, in your own words, what the load_iris() function returns."
   ]
  },
  {
   "cell_type": "markdown",
   "metadata": {},
   "source": [
    "The `load_iris()` is a function which returns a collection of information about flowers. This data has a description of measurements, labels, names and some details about flowers. The function organizes this information in a dictinary-like structure which gives us an opportunity to access and use for analysis or machine learning tasks."
   ]
  },
  {
   "cell_type": "markdown",
   "metadata": {},
   "source": [
    "## Task 2: Explore the Data Structure"
   ]
  },
  {
   "cell_type": "markdown",
   "metadata": {},
   "source": [
    "Print and explain the shape of the data set, the first and last 5 rows of the data, the feature names, and the target classes."
   ]
  },
  {
   "cell_type": "code",
   "execution_count": 30,
   "metadata": {},
   "outputs": [
    {
     "name": "stdout",
     "output_type": "stream",
     "text": [
      "(150, 4)\n"
     ]
    }
   ],
   "source": [
    "# https://numpy.org/doc/2.1/reference/generated/numpy.shape.html\n",
    "\n",
    "print(data['data'].shape) #shape is a numpy array key, which shows us dimension of the data, how many rows and columns"
   ]
  },
  {
   "cell_type": "code",
   "execution_count": 31,
   "metadata": {},
   "outputs": [
    {
     "name": "stdout",
     "output_type": "stream",
     "text": [
      "[[5.1 3.5 1.4 0.2]\n",
      " [4.9 3.  1.4 0.2]\n",
      " [4.7 3.2 1.3 0.2]\n",
      " [4.6 3.1 1.5 0.2]\n",
      " [5.  3.6 1.4 0.2]]\n"
     ]
    }
   ],
   "source": [
    "# to show first 5 rows of the data we can use slicing\n",
    "print(data['data'][:5]) # Print the first 5 rows of the data"
   ]
  },
  {
   "cell_type": "code",
   "execution_count": 32,
   "metadata": {},
   "outputs": [
    {
     "name": "stdout",
     "output_type": "stream",
     "text": [
      "[[6.7 3.  5.2 2.3]\n",
      " [6.3 2.5 5.  1.9]\n",
      " [6.5 3.  5.2 2. ]\n",
      " [6.2 3.4 5.4 2.3]\n",
      " [5.9 3.  5.1 1.8]]\n"
     ]
    }
   ],
   "source": [
    "# to show last 5 rows of the data we can use also slicing\n",
    "print(data['data'][-5:]) # Print the last 5 rows of the data"
   ]
  },
  {
   "cell_type": "code",
   "execution_count": 33,
   "metadata": {},
   "outputs": [
    {
     "name": "stdout",
     "output_type": "stream",
     "text": [
      "['sepal length (cm)', 'sepal width (cm)', 'petal length (cm)', 'petal width (cm)']\n"
     ]
    }
   ],
   "source": [
    "print(data['feature_names']) # Print the feature names of the data, which are the names of the columns in the data"
   ]
  },
  {
   "cell_type": "code",
   "execution_count": 34,
   "metadata": {},
   "outputs": [
    {
     "name": "stdout",
     "output_type": "stream",
     "text": [
      "['setosa' 'versicolor' 'virginica']\n"
     ]
    }
   ],
   "source": [
    "print(data['target_names']) # Print the target variable, which is the species of the iris flower, which is the name of the rows in the data"
   ]
  },
  {
   "cell_type": "markdown",
   "metadata": {},
   "source": [
    "## Task 3: Summarize the Data"
   ]
  },
  {
   "cell_type": "markdown",
   "metadata": {},
   "source": [
    "For each feature in the dataset, calculate and display:  \n",
    "\n",
    "- [mean](#mean)\n",
    "- [minimum](#minimum)\n",
    "- [maximum](#maximum)\n",
    "- [standard_deviation](#standard_deviation)\n",
    "- [median](#median)"
   ]
  },
  {
   "cell_type": "code",
   "execution_count": 35,
   "metadata": {},
   "outputs": [],
   "source": [
    "# https://numpy.org/doc/stable/user/absolute_beginners.html#how-to-import-numpy\n",
    "import numpy as np # Importing numpy package, which used to operate efficiently on these data structures."
   ]
  },
  {
   "cell_type": "markdown",
   "metadata": {},
   "source": [
    "Finding out how many columns do we need to calculate"
   ]
  },
  {
   "cell_type": "code",
   "execution_count": 36,
   "metadata": {},
   "outputs": [
    {
     "name": "stdout",
     "output_type": "stream",
     "text": [
      "['sepal length (cm)', 'sepal width (cm)', 'petal length (cm)', 'petal width (cm)']\n"
     ]
    }
   ],
   "source": [
    "# Getting list with four feature names\n",
    "feature_names = data['feature_names']\n",
    "print(feature_names)"
   ]
  },
  {
   "cell_type": "markdown",
   "metadata": {},
   "source": [
    "The Indexing, slicing and iterating documentation ([see official documentation](https://numpy.org/devdocs/user/quickstart.html#indexing-slicing-and-iterating)) help us to get an acces for any column we need."
   ]
  },
  {
   "cell_type": "code",
   "execution_count": 37,
   "metadata": {},
   "outputs": [],
   "source": [
    "# https://numpy.org/devdocs/user/quickstart.html#indexing-slicing-and-iterating\n",
    "# We can also access the features names by using the index of the list\n",
    "first_feature = data['data'][:,0] # (:) means we take all rows, 0 - first column\n",
    "second_feature = data['data'][:,1] # (:) means we take all rows, 1 - second column\n",
    "third_feature = data['data'][:,2] # (:) means we take all rows, 2 - first column\n",
    "fourth_feature = data['data'][:,3] # (:) means we take all rows, 3 - first column"
   ]
  },
  {
   "cell_type": "markdown",
   "metadata": {},
   "source": [
    "## Mean"
   ]
  },
  {
   "cell_type": "markdown",
   "metadata": {},
   "source": [
    "Calculating and display mean for each feature `numpy.mean` function ([see official documentation](https://numpy.org/doc/2.2/reference/generated/numpy.mean.html#numpy-mean)) Returns the average of the array elements."
   ]
  },
  {
   "cell_type": "code",
   "execution_count": 52,
   "metadata": {},
   "outputs": [
    {
     "name": "stdout",
     "output_type": "stream",
     "text": [
      "The average of the sepal length (cm) is: 5.843333333333334\n",
      "The average of the sepal width (cm) is: 3.0573333333333337\n",
      "The average of the petal length (cm) is: 3.7580000000000005\n",
      "The average of the petal width (cm) is: 1.1993333333333336\n"
     ]
    }
   ],
   "source": [
    "# https://numpy.org/doc/2.2/reference/generated/numpy.mean.html#numpy-mean\n",
    "print(f\"The average of the {data['feature_names'][0]} is: {np.mean(first_feature)}\") # Print the average of the first feature\n",
    "print(f\"The average of the {data['feature_names'][1]} is: {np.mean(second_feature)}\") # Print the average of the second feature\n",
    "print(f\"The average of the {data['feature_names'][2]} is: {np.mean(third_feature)}\") # Print the average of the third feature\n",
    "print(f\"The average of the {data['feature_names'][3]} is: {np.mean(fourth_feature)}\") # Print the average of the fourth feature"
   ]
  },
  {
   "cell_type": "markdown",
   "metadata": {},
   "source": [
    "## Minimum"
   ]
  },
  {
   "cell_type": "code",
   "execution_count": 54,
   "metadata": {},
   "outputs": [
    {
     "name": "stdout",
     "output_type": "stream",
     "text": [
      "The minimum of the sepal length (cm) is: 4.3\n",
      "The minimum of the sepal width (cm) is: 2.0\n",
      "The minimum of the petal length (cm) is: 1.0\n",
      "The minimum of the petal width (cm) is: 0.1\n"
     ]
    }
   ],
   "source": [
    "#  https://numpy.org/doc/2.2/reference/generated/numpy.min.html#numpy-min\n",
    "print(f\"The minimum of the {data['feature_names'][0]} is: {np.min(first_feature)}\") # Print the minimum of the array\n",
    "print(f\"The minimum of the {data['feature_names'][1]} is: {np.min(second_feature)}\") # Print the minimum of the array\n",
    "print(f\"The minimum of the {data['feature_names'][2]} is: {np.min(third_feature)}\") # Print the minimum of the array\n",
    "print(f\"The minimum of the {data['feature_names'][3]} is: {np.min(fourth_feature)}\") # Print the minimum of the array"
   ]
  },
  {
   "cell_type": "markdown",
   "metadata": {},
   "source": [
    "## Maximum"
   ]
  },
  {
   "cell_type": "code",
   "execution_count": null,
   "metadata": {},
   "outputs": [
    {
     "name": "stdout",
     "output_type": "stream",
     "text": [
      "The maximum of the sepal length (cm) is: 7.9\n",
      "The maximum of the sepal width (cm) is: 4.4\n",
      "The maximum of the petal length (cm) is: 6.9\n",
      "The maximum of the petal width (cm) is: 2.5\n"
     ]
    }
   ],
   "source": [
    "#  https://numpy.org/doc/2.2/reference/generated/numpy.max.html#numpy-max\n",
    "print(f\"The maximum of the {data['feature_names'][0]} is: {np.max(first_feature)}\") # Print the maximum of the first feature\n",
    "print(f\"The maximum of the {data['feature_names'][1]} is: {np.max(second_feature)}\") # Print the maximum of the second feature\n",
    "print(f\"The maximum of the {data['feature_names'][2]} is: {np.max(third_feature)}\") # Print the maximum of the third feature\n",
    "print(f\"The maximum of the {data['feature_names'][3]} is: {np.max(fourth_feature)}\") # Print the maximum of the fourth feature"
   ]
  },
  {
   "cell_type": "markdown",
   "metadata": {},
   "source": [
    "## Standard_deviation"
   ]
  },
  {
   "cell_type": "code",
   "execution_count": null,
   "metadata": {},
   "outputs": [
    {
     "name": "stdout",
     "output_type": "stream",
     "text": [
      "The standard deviation of the sepal length (cm) is: 0.8253012917851409\n",
      "The standard deviation of the sepal width (cm) is: 0.4344109677354946\n",
      "The standard deviation of the petal length (cm) is: 1.759404065775303\n",
      "The standard deviation of the petal width (cm) is: 0.7596926279021594\n"
     ]
    }
   ],
   "source": [
    "#  https://numpy.org/doc/2.2/reference/generated/numpy.std.html#numpy-std\n",
    "print(f\"The standard deviation of the {data['feature_names'][0]} is: {np.std(first_feature)}\") # Print the standard deviation of the first feature\n",
    "print(f\"The standard deviation of the {data['feature_names'][1]} is: {np.std(second_feature)}\") # Print the standard deviation of the second feature\n",
    "print(f\"The standard deviation of the {data['feature_names'][2]} is: {np.std(third_feature)}\") # Print the standard deviation of the third feature\n",
    "print(f\"The standard deviation of the {data['feature_names'][3]} is: {np.std(fourth_feature)}\") # Print the standard deviation of the fourth feature"
   ]
  },
  {
   "cell_type": "markdown",
   "metadata": {},
   "source": [
    "## Median"
   ]
  },
  {
   "cell_type": "code",
   "execution_count": 57,
   "metadata": {},
   "outputs": [
    {
     "name": "stdout",
     "output_type": "stream",
     "text": [
      "The median of the sepal length (cm) is: 5.8\n",
      "The median of the sepal width (cm) is: 3.0\n",
      "The median of the petal length (cm) is: 4.35\n",
      "The median of the petal width (cm) is: 1.3\n"
     ]
    }
   ],
   "source": [
    "#  https://numpy.org/doc/2.1/reference/generated/numpy.median.html#numpy-median\n",
    "print(f\"The median of the {data['feature_names'][0]} is: {np.median(first_feature)}\") # Print the median of the first feature  \n",
    "print(f\"The median of the {data['feature_names'][1]} is: {np.median(second_feature)}\") # Print the median of the second feature\n",
    "print(f\"The median of the {data['feature_names'][2]} is: {np.median(third_feature)}\") # Print the median of the third feature\n",
    "print(f\"The median of the {data['feature_names'][3]} is: {np.median(fourth_feature)}\") # Print the median of the fourth feature"
   ]
  }
 ],
 "metadata": {
  "kernelspec": {
   "display_name": "Python 3",
   "language": "python",
   "name": "python3"
  },
  "language_info": {
   "codemirror_mode": {
    "name": "ipython",
    "version": 3
   },
   "file_extension": ".py",
   "mimetype": "text/x-python",
   "name": "python",
   "nbconvert_exporter": "python",
   "pygments_lexer": "ipython3",
   "version": "3.12.1"
  }
 },
 "nbformat": 4,
 "nbformat_minor": 2
}
